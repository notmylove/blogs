{
  "nbformat": 4,
  "nbformat_minor": 0,
  "metadata": {
    "colab": {
      "name": "tensorflow_2.ipynb",
      "version": "0.3.2",
      "provenance": [],
      "collapsed_sections": [],
      "include_colab_link": true
    },
    "kernelspec": {
      "name": "python3",
      "display_name": "Python 3"
    }
  },
  "cells": [
    {
      "cell_type": "markdown",
      "metadata": {
        "id": "view-in-github",
        "colab_type": "text"
      },
      "source": [
        "<a href=\"https://colab.research.google.com/github/notmylove/blogs/blob/master/tensorflow_2.ipynb\" target=\"_parent\"><img src=\"https://colab.research.google.com/assets/colab-badge.svg\" alt=\"Open In Colab\"/></a>"
      ]
    },
    {
      "metadata": {
        "id": "jxkdofYGlW1l",
        "colab_type": "text"
      },
      "cell_type": "markdown",
      "source": [
        "# 搭建一个关于计算机视觉的深度神经网络模型\n",
        "这里有70000个Fashion MNIST数据，可以直接从TensorFlow中导入，这些数据集包含10中不同的衣服类型，每个image图像的像素是28*28，在0-255之间，60000个数据作为训练集，10000个数据作为测试集"
      ]
    },
    {
      "metadata": {
        "id": "EbLUHFiylZH8",
        "colab_type": "code",
        "colab": {}
      },
      "cell_type": "code",
      "source": [
        "import tensorflow as tf\n",
        "from tensorflow import keras"
      ],
      "execution_count": 0,
      "outputs": []
    },
    {
      "metadata": {
        "id": "F4X6vKQwn5AA",
        "colab_type": "code",
        "colab": {
          "base_uri": "https://localhost:8080/",
          "height": 161
        },
        "outputId": "7b181b39-cc7c-4a48-efa9-5f261071c874"
      },
      "cell_type": "code",
      "source": [
        "mnist = tf.keras.datasets.fashion_mnist\n",
        "(train_images, train_labels), (test_images, test_labels) = mnist.load_data()"
      ],
      "execution_count": 3,
      "outputs": [
        {
          "output_type": "stream",
          "text": [
            "Downloading data from https://storage.googleapis.com/tensorflow/tf-keras-datasets/train-labels-idx1-ubyte.gz\n",
            "32768/29515 [=================================] - 0s 0us/step\n",
            "Downloading data from https://storage.googleapis.com/tensorflow/tf-keras-datasets/train-images-idx3-ubyte.gz\n",
            "26427392/26421880 [==============================] - 0s 0us/step\n",
            "Downloading data from https://storage.googleapis.com/tensorflow/tf-keras-datasets/t10k-labels-idx1-ubyte.gz\n",
            "8192/5148 [===============================================] - 0s 0us/step\n",
            "Downloading data from https://storage.googleapis.com/tensorflow/tf-keras-datasets/t10k-images-idx3-ubyte.gz\n",
            "4423680/4422102 [==============================] - 0s 0us/step\n"
          ],
          "name": "stdout"
        }
      ]
    },
    {
      "metadata": {
        "id": "tbuNxASppiBu",
        "colab_type": "text"
      },
      "cell_type": "markdown",
      "source": [
        "调用plt.imshow()查看image图像，print某个index的image的像素值"
      ]
    },
    {
      "metadata": {
        "id": "_5rsXXa4qAFs",
        "colab_type": "code",
        "colab": {}
      },
      "cell_type": "code",
      "source": [
        "import matplotlib.pyplot as plt"
      ],
      "execution_count": 0,
      "outputs": []
    },
    {
      "metadata": {
        "id": "jVOdajimqOcl",
        "colab_type": "code",
        "colab": {
          "base_uri": "https://localhost:8080/",
          "height": 1373
        },
        "outputId": "9acc208e-5014-4b50-be05-bb07dea06078"
      },
      "cell_type": "code",
      "source": [
        "plt.imshow(train_images[0])\n",
        "print(train_images[0], '\\n', train_labels[0])\n"
      ],
      "execution_count": 7,
      "outputs": [
        {
          "output_type": "stream",
          "text": [
            "[[  0   0   0   0   0   0   0   0   0   0   0   0   0   0   0   0   0   0\n",
            "    0   0   0   0   0   0   0   0   0   0]\n",
            " [  0   0   0   0   0   0   0   0   0   0   0   0   0   0   0   0   0   0\n",
            "    0   0   0   0   0   0   0   0   0   0]\n",
            " [  0   0   0   0   0   0   0   0   0   0   0   0   0   0   0   0   0   0\n",
            "    0   0   0   0   0   0   0   0   0   0]\n",
            " [  0   0   0   0   0   0   0   0   0   0   0   0   1   0   0  13  73   0\n",
            "    0   1   4   0   0   0   0   1   1   0]\n",
            " [  0   0   0   0   0   0   0   0   0   0   0   0   3   0  36 136 127  62\n",
            "   54   0   0   0   1   3   4   0   0   3]\n",
            " [  0   0   0   0   0   0   0   0   0   0   0   0   6   0 102 204 176 134\n",
            "  144 123  23   0   0   0   0  12  10   0]\n",
            " [  0   0   0   0   0   0   0   0   0   0   0   0   0   0 155 236 207 178\n",
            "  107 156 161 109  64  23  77 130  72  15]\n",
            " [  0   0   0   0   0   0   0   0   0   0   0   1   0  69 207 223 218 216\n",
            "  216 163 127 121 122 146 141  88 172  66]\n",
            " [  0   0   0   0   0   0   0   0   0   1   1   1   0 200 232 232 233 229\n",
            "  223 223 215 213 164 127 123 196 229   0]\n",
            " [  0   0   0   0   0   0   0   0   0   0   0   0   0 183 225 216 223 228\n",
            "  235 227 224 222 224 221 223 245 173   0]\n",
            " [  0   0   0   0   0   0   0   0   0   0   0   0   0 193 228 218 213 198\n",
            "  180 212 210 211 213 223 220 243 202   0]\n",
            " [  0   0   0   0   0   0   0   0   0   1   3   0  12 219 220 212 218 192\n",
            "  169 227 208 218 224 212 226 197 209  52]\n",
            " [  0   0   0   0   0   0   0   0   0   0   6   0  99 244 222 220 218 203\n",
            "  198 221 215 213 222 220 245 119 167  56]\n",
            " [  0   0   0   0   0   0   0   0   0   4   0   0  55 236 228 230 228 240\n",
            "  232 213 218 223 234 217 217 209  92   0]\n",
            " [  0   0   1   4   6   7   2   0   0   0   0   0 237 226 217 223 222 219\n",
            "  222 221 216 223 229 215 218 255  77   0]\n",
            " [  0   3   0   0   0   0   0   0   0  62 145 204 228 207 213 221 218 208\n",
            "  211 218 224 223 219 215 224 244 159   0]\n",
            " [  0   0   0   0  18  44  82 107 189 228 220 222 217 226 200 205 211 230\n",
            "  224 234 176 188 250 248 233 238 215   0]\n",
            " [  0  57 187 208 224 221 224 208 204 214 208 209 200 159 245 193 206 223\n",
            "  255 255 221 234 221 211 220 232 246   0]\n",
            " [  3 202 228 224 221 211 211 214 205 205 205 220 240  80 150 255 229 221\n",
            "  188 154 191 210 204 209 222 228 225   0]\n",
            " [ 98 233 198 210 222 229 229 234 249 220 194 215 217 241  65  73 106 117\n",
            "  168 219 221 215 217 223 223 224 229  29]\n",
            " [ 75 204 212 204 193 205 211 225 216 185 197 206 198 213 240 195 227 245\n",
            "  239 223 218 212 209 222 220 221 230  67]\n",
            " [ 48 203 183 194 213 197 185 190 194 192 202 214 219 221 220 236 225 216\n",
            "  199 206 186 181 177 172 181 205 206 115]\n",
            " [  0 122 219 193 179 171 183 196 204 210 213 207 211 210 200 196 194 191\n",
            "  195 191 198 192 176 156 167 177 210  92]\n",
            " [  0   0  74 189 212 191 175 172 175 181 185 188 189 188 193 198 204 209\n",
            "  210 210 211 188 188 194 192 216 170   0]\n",
            " [  2   0   0   0  66 200 222 237 239 242 246 243 244 221 220 193 191 179\n",
            "  182 182 181 176 166 168  99  58   0   0]\n",
            " [  0   0   0   0   0   0   0  40  61  44  72  41  35   0   0   0   0   0\n",
            "    0   0   0   0   0   0   0   0   0   0]\n",
            " [  0   0   0   0   0   0   0   0   0   0   0   0   0   0   0   0   0   0\n",
            "    0   0   0   0   0   0   0   0   0   0]\n",
            " [  0   0   0   0   0   0   0   0   0   0   0   0   0   0   0   0   0   0\n",
            "    0   0   0   0   0   0   0   0   0   0]] \n",
            " 9\n"
          ],
          "name": "stdout"
        },
        {
          "output_type": "display_data",
          "data": {
            "image/png": "[encoded data removed]",
            "text/plain": [
              "<Figure size 576x396 with 1 Axes>"
            ]
          },
          "metadata": {
            "tags": []
          }
        }
      ]
    },
    {
      "metadata": {
        "id": "EQubYdCLq0bE",
        "colab_type": "text"
      },
      "cell_type": "markdown",
      "source": [
        "**像素值**在0-255之间，为了更好对神经网络模型进行训练，有必要对数据进行预处理，可以再把数据值变换到0-1之间，这就是正则化"
      ]
    },
    {
      "metadata": {
        "id": "7UynPF5SrRkL",
        "colab_type": "code",
        "colab": {}
      },
      "cell_type": "code",
      "source": [
        "train_images = train_images / 255.0\n",
        "test_images = test_images / 255.0"
      ],
      "execution_count": 0,
      "outputs": []
    },
    {
      "metadata": {
        "id": "9dW8GP1QrtyT",
        "colab_type": "text"
      },
      "cell_type": "markdown",
      "source": [
        "构建一个**序列模型**，这里构建一个两层神经网络（多层感知器）模型，两层是指计算层为两层："
      ]
    },
    {
      "metadata": {
        "id": "zezmewOZsalx",
        "colab_type": "code",
        "colab": {}
      },
      "cell_type": "code",
      "source": [
        "model = tf.keras.Sequential([keras.layers.Flatten(),\n",
        "                            keras.layers.Dense(units=128, activation='relu'),\n",
        "                            keras.layers.Dense(units=10, activation='softmax')])"
      ],
      "execution_count": 0,
      "outputs": []
    },
    {
      "metadata": {
        "id": "6SRF9VHUujJN",
        "colab_type": "text"
      },
      "cell_type": "markdown",
      "source": [
        "**Dense**：加一层神经元\n",
        "\n",
        "**activation**：激活函数，relu表示：$x=\\begin{cases}x, \\quad x\\geq 0 \\\\ 0, \\quad x< 0 \\end{cases}$\n",
        "\n",
        "[softmax](https://www.tensorflow.org/api_docs/python/tf/nn/softmax)\n",
        "\n",
        "构建好模型后，通过调用 compile 方法配置该模型的学习流程, fit方法来训练模型"
      ]
    },
    {
      "metadata": {
        "id": "l311OnKnujXt",
        "colab_type": "code",
        "colab": {
          "base_uri": "https://localhost:8080/",
          "height": 215
        },
        "outputId": "7222e0aa-e2c0-4c6c-8e1d-706d1af86721"
      },
      "cell_type": "code",
      "source": [
        "model.compile(optimizer=tf.train.AdamOptimizer(), loss='sparse_categorical_crossentropy', metrics=['accuracy'])\n",
        "model.fit(train_images, train_labels, epochs=5)\n"
      ],
      "execution_count": 17,
      "outputs": [
        {
          "output_type": "stream",
          "text": [
            "Epoch 1/5\n",
            "60000/60000 [==============================] - 5s 80us/sample - loss: 0.4776 - acc: 0.8324\n",
            "Epoch 2/5\n",
            "60000/60000 [==============================] - 5s 80us/sample - loss: 0.4625 - acc: 0.8376\n",
            "Epoch 3/5\n",
            "60000/60000 [==============================] - 5s 77us/sample - loss: 0.4506 - acc: 0.8416\n",
            "Epoch 4/5\n",
            "60000/60000 [==============================] - 4s 72us/sample - loss: 0.4407 - acc: 0.8460\n",
            "Epoch 5/5\n",
            "60000/60000 [==============================] - 4s 70us/sample - loss: 0.4325 - acc: 0.8484\n"
          ],
          "name": "stdout"
        },
        {
          "output_type": "execute_result",
          "data": {
            "text/plain": [
              "<tensorflow.python.keras.callbacks.History at 0x7fcb5cefe080>"
            ]
          },
          "metadata": {
            "tags": []
          },
          "execution_count": 17
        }
      ]
    },
    {
      "metadata": {
        "id": "-5Rk9kui5mVI",
        "colab_type": "code",
        "colab": {
          "base_uri": "https://localhost:8080/",
          "height": 53
        },
        "outputId": "c52bf4d1-906f-4a66-a3e4-1202f72e0a3c"
      },
      "cell_type": "code",
      "source": [
        "model.evaluate(test_images, test_labels)"
      ],
      "execution_count": 21,
      "outputs": [
        {
          "output_type": "stream",
          "text": [
            "10000/10000 [==============================] - 0s 42us/sample - loss: 4.6931 - acc: 0.7018\n"
          ],
          "name": "stdout"
        },
        {
          "output_type": "execute_result",
          "data": {
            "text/plain": [
              "[4.693135403060913, 0.7018]"
            ]
          },
          "metadata": {
            "tags": []
          },
          "execution_count": 21
        }
      ]
    },
    {
      "metadata": {
        "id": "d5KPoVw76hKg",
        "colab_type": "code",
        "colab": {}
      },
      "cell_type": "code",
      "source": [
        "classifications = model.predict(test_images)"
      ],
      "execution_count": 0,
      "outputs": []
    },
    {
      "metadata": {
        "id": "tVzhJP7g7yXm",
        "colab_type": "code",
        "colab": {
          "base_uri": "https://localhost:8080/",
          "height": 35
        },
        "outputId": "3799264d-4ef8-4894-abe8-b00a6e310526"
      },
      "cell_type": "code",
      "source": [
        "print(classifications[0])"
      ],
      "execution_count": 25,
      "outputs": [
        {
          "output_type": "stream",
          "text": [
            "[0. 0. 0. 0. 0. 0. 0. 0. 0. 1.]\n"
          ],
          "name": "stdout"
        }
      ]
    },
    {
      "metadata": {
        "id": "rb_58bm77e4f",
        "colab_type": "code",
        "colab": {
          "base_uri": "https://localhost:8080/",
          "height": 35
        },
        "outputId": "8589fcc2-3ba5-40a8-c237-826f5cca8002"
      },
      "cell_type": "code",
      "source": [
        "print(test_labels[0])"
      ],
      "execution_count": 23,
      "outputs": [
        {
          "output_type": "stream",
          "text": [
            "9\n"
          ],
          "name": "stdout"
        }
      ]
    },
    {
      "metadata": {
        "id": "27NSg2y086fJ",
        "colab_type": "text"
      },
      "cell_type": "markdown",
      "source": [
        "模型的输出是一个10个元素的列表，classifiactions[0]得到的一个列表，表示分别对应类别的概率"
      ]
    },
    {
      "metadata": {
        "id": "bg-8mDSa-NTg",
        "colab_type": "text"
      },
      "cell_type": "markdown",
      "source": [
        "## 改变隐藏层中神经元的个数"
      ]
    },
    {
      "metadata": {
        "id": "xHSntpvc-YUJ",
        "colab_type": "code",
        "colab": {}
      },
      "cell_type": "code",
      "source": [
        "import tensorflow as tf\n",
        "from tensorflow import keras\n",
        "import matplotlib.pyplot as plt\n",
        "\n",
        "\n",
        "mnist = keras.datasets.fashion_mnist\n",
        "(train_images, train_labels), (test_images, test_labels) = mnist.load_data()\n",
        "\n",
        "train_images, test_images = train_images/255.0, test_images/255.0\n",
        "model = tf.keras.Sequential([keras.layers.Flatten(),\n",
        "                            keras.layers.Dense(units=1024, activation='relu'),\n",
        "                            keras.layers.Dense(units=10, activation='softmax')])\n",
        "model.compile(optimizer=tf.train.AdamOptimizer(), loss='sparse_categorical_crossentropy', metrics=['accuracy'])\n",
        "model.fit(train_images, train_labels, epochs=5)\n",
        "model.evaluate(test_images, test_labels)\n",
        "classification = model.predict(test_images)\n",
        "print(classification[0], '\\n', test_labels[0])"
      ],
      "execution_count": 0,
      "outputs": []
    },
    {
      "metadata": {
        "id": "0HV4syv6EjZt",
        "colab_type": "text"
      },
      "cell_type": "markdown",
      "source": [
        "**随着神经元个数的增加，计算量随之增大，最后预测结果的准确率会变高，但这不是无止境了，到了一定程度就可能会下降了**"
      ]
    },
    {
      "metadata": {
        "id": "rdiKn8M4D1yX",
        "colab_type": "text"
      },
      "cell_type": "markdown",
      "source": [
        "## 把keras.layers.Flatten()去掉"
      ]
    },
    {
      "metadata": {
        "id": "_d5fNgpVD_s_",
        "colab_type": "code",
        "colab": {}
      },
      "cell_type": "code",
      "source": [
        "import tensorflow as tf\n",
        "from tensorflow import keras\n",
        "import matplotlib.pyplot as plt\n",
        "\n",
        "\n",
        "mnist = keras.datasets.fashion_mnist\n",
        "(train_images, train_labels), (test_images, test_labels) = mnist.load_data()\n",
        "\n",
        "train_images, test_images = train_images/255.0, test_images/255.0\n",
        "model = tf.keras.Sequential([keras.layers.Dense(units=1024, activation='relu'),\n",
        "                            keras.layers.Dense(units=10, activation='softmax')])\n",
        "model.compile(optimizer=tf.train.AdamOptimizer(), loss='sparse_categorical_crossentropy', metrics=['accuracy'])\n",
        "model.fit(train_images, train_labels, epochs=5)\n",
        "model.evaluate(test_images, test_labels)\n",
        "classification = model.predict(test_images)\n",
        "print(classification[0], '\\n', test_labels[0])"
      ],
      "execution_count": 0,
      "outputs": []
    },
    {
      "metadata": {
        "id": "UhfXrwHdFINd",
        "colab_type": "text"
      },
      "cell_type": "markdown",
      "source": [
        "**程序运行时会显示数据形状错误，我们的数据是28x28图像，28层28个神经元是不可行的，因此将28,28个“平坦化”为784x1更有意义。 我们在开始时添加Flatten（）层，而不是自己处理所有代码，稍后将数组加载到模型中时，它们将自动为我们展平。**"
      ]
    },
    {
      "metadata": {
        "id": "lpyZHfZmdn8_",
        "colab_type": "text"
      },
      "cell_type": "markdown",
      "source": [
        "## 增加计算层"
      ]
    },
    {
      "metadata": {
        "id": "HRryQskRdvq9",
        "colab_type": "code",
        "colab": {}
      },
      "cell_type": "code",
      "source": [
        "import tensorflow as tf\n",
        "from tensorflow import keras\n",
        "import matplotlib.pyplot as plt\n",
        "\n",
        "\n",
        "mnist = keras.datasets.fashion_mnist\n",
        "(train_images, train_labels), (test_images, test_labels) = mnist.load_data()\n",
        "\n",
        "train_images, test_images = train_images/255.0, test_images/255.0\n",
        "model = tf.keras.Sequential([keras.layers.Flatten(),\n",
        "                            keras.layers.Dense(units=512, activation='relu'),\n",
        "                            keras.layers.Dense(units=256, activation='relu')\n",
        "                            keras.layers.Dense(units=10, activation='softmax')])\n",
        "model.compile(optimizer='adam', loss='sparse_categorical_crossentropy', metrics=['accuracy'])\n",
        "model.fit(train_images, train_labels, epochs=5)\n",
        "model.evaluate(test_images, test_labels)\n",
        "classification = model.predict(test_images)\n",
        "print(classification[0], '\\n', test_labels[0])"
      ],
      "execution_count": 0,
      "outputs": []
    },
    {
      "metadata": {
        "id": "7lzDFKRihEcB",
        "colab_type": "text"
      },
      "cell_type": "markdown",
      "source": [
        "##停止训练\n",
        "当你想准确率达到理想值时停止训练，即95％的准确度可能对你来说足够了，如果在6次循环周期达到那个目标，为什么还要等待它完成更多的循环呢.所以你会如何解决这个问题？ 像任何其他程序一样......你有回调！"
      ]
    },
    {
      "metadata": {
        "id": "Vi-CDJNMhrR5",
        "colab_type": "code",
        "colab": {
          "base_uri": "https://localhost:8080/",
          "height": 359
        },
        "outputId": "69208a8c-4b41-439f-b915-103cca46d414"
      },
      "cell_type": "code",
      "source": [
        "import tensorflow as tf\n",
        "from tensorflow import keras\n",
        "\n",
        "\n",
        "class myCallback(tf.keras.callbacks.Callback):\n",
        "  def on_epoch_end(self, epoch, logs={}):\n",
        "    if(logs.get('loss') < 0.4):\n",
        "      print(\"\\nReached 60% accuracy so cancelling train!\")\n",
        "      self.model.stop_train = True\n",
        "\n",
        "callbacks = myCallback()\n",
        "mnist = tf.keras.datasets.fashion_mnist\n",
        "(train_images, train_labels), (test_images, test_labels) = mnist.load_data()\n",
        "train_images, test_images = train_images/255.0, test_images/255.0\n",
        "model = tf.keras.Sequential([keras.layers.Flatten(),\n",
        "                            keras.layers.Dense(512, activation='relu'),\n",
        "                            keras.layers.Dense(10, activation='softmax')\n",
        "])\n",
        "model.compile(optimizer='adam', loss='sparse_categorical_crossentropy', metrics=['accuracy'])\n",
        "model.fit(train_images, train_labels, epochs=5, callbacks=[callbacks])\n",
        "\n",
        "\n"
      ],
      "execution_count": 38,
      "outputs": [
        {
          "output_type": "stream",
          "text": [
            "Epoch 1/5\n",
            "60000/60000 [==============================] - 12s 202us/sample - loss: 0.4734\n",
            "Epoch 2/5\n",
            "59904/60000 [============================>.] - ETA: 0s - loss: 0.3576\n",
            "Reached 60% accuracy so cancelling train!\n",
            "60000/60000 [==============================] - 12s 192us/sample - loss: 0.3577\n",
            "Epoch 3/5\n",
            "59872/60000 [============================>.] - ETA: 0s - loss: 0.3239\n",
            "Reached 60% accuracy so cancelling train!\n",
            "60000/60000 [==============================] - 11s 188us/sample - loss: 0.3239\n",
            "Epoch 4/5\n",
            "59776/60000 [============================>.] - ETA: 0s - loss: 0.2991\n",
            "Reached 60% accuracy so cancelling train!\n",
            "60000/60000 [==============================] - 11s 188us/sample - loss: 0.2991\n",
            "Epoch 5/5\n",
            "59840/60000 [============================>.] - ETA: 0s - loss: 0.2793\n",
            "Reached 60% accuracy so cancelling train!\n",
            "60000/60000 [==============================] - 11s 188us/sample - loss: 0.2796\n"
          ],
          "name": "stdout"
        },
        {
          "output_type": "execute_result",
          "data": {
            "text/plain": [
              "<tensorflow.python.keras.callbacks.History at 0x7fcb5393e6d8>"
            ]
          },
          "metadata": {
            "tags": []
          },
          "execution_count": 38
        }
      ]
    }
  ]
}