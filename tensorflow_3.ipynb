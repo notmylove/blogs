{
  "nbformat": 4,
  "nbformat_minor": 0,
  "metadata": {
    "colab": {
      "name": "tensorflow_3.ipynb",
      "version": "0.3.2",
      "provenance": [],
      "collapsed_sections": [],
      "include_colab_link": true
    },
    "kernelspec": {
      "name": "python3",
      "display_name": "Python 3"
    },
    "accelerator": "GPU"
  },
  "cells": [
    {
      "cell_type": "markdown",
      "metadata": {
        "id": "view-in-github",
        "colab_type": "text"
      },
      "source": [
        "<a href=\"https://colab.research.google.com/github/notmylove/blogs/blob/master/tensorflow_3.ipynb\" target=\"_parent\"><img src=\"https://colab.research.google.com/assets/colab-badge.svg\" alt=\"Open In Colab\"/></a>"
      ]
    },
    {
      "metadata": {
        "id": "oaUVaIaSI_sX",
        "colab_type": "text"
      },
      "cell_type": "markdown",
      "source": [
        "# 使用卷积来提升计算机视觉准确率"
      ]
    },
    {
      "metadata": {
        "id": "AqHsw65dJBI-",
        "colab_type": "code",
        "outputId": "58b58837-aa68-4421-fa54-1de32199bfa8",
        "colab": {
          "base_uri": "https://localhost:8080/",
          "height": 505
        }
      },
      "cell_type": "code",
      "source": [
        "import tensorflow as tf\n",
        "from tensorflow import keras\n",
        "import matplotlib.pyplot as plt\n",
        "\n",
        "\n",
        "mnist = keras.datasets.fashion_mnist\n",
        "(train_images, train_labels), (test_images, test_labels) = mnist.load_data()\n",
        "\n",
        "train_images, test_images = train_images/255.0, test_images/255.0\n",
        "model = tf.keras.Sequential([keras.layers.Flatten(),\n",
        "                            keras.layers.Dense(units=128, activation='relu'),\n",
        "                            keras.layers.Dense(units=10, activation='softmax')])\n",
        "model.compile(optimizer='adam', loss='sparse_categorical_crossentropy', metrics=['accuracy'])\n",
        "model.fit(train_images, train_labels, epochs=5)\n",
        "model.evaluate(test_images, test_labels)\n",
        "classification = model.predict(test_images)\n",
        "print(classification[0], '\\n', test_labels[0])"
      ],
      "execution_count": 0,
      "outputs": [
        {
          "output_type": "stream",
          "text": [
            "Downloading data from https://storage.googleapis.com/tensorflow/tf-keras-datasets/train-labels-idx1-ubyte.gz\n",
            "32768/29515 [=================================] - 0s 0us/step\n",
            "Downloading data from https://storage.googleapis.com/tensorflow/tf-keras-datasets/train-images-idx3-ubyte.gz\n",
            "26427392/26421880 [==============================] - 0s 0us/step\n",
            "Downloading data from https://storage.googleapis.com/tensorflow/tf-keras-datasets/t10k-labels-idx1-ubyte.gz\n",
            "8192/5148 [===============================================] - 0s 0us/step\n",
            "Downloading data from https://storage.googleapis.com/tensorflow/tf-keras-datasets/t10k-images-idx3-ubyte.gz\n",
            "4423680/4422102 [==============================] - 0s 0us/step\n",
            "WARNING:tensorflow:From /usr/local/lib/python3.6/dist-packages/tensorflow/python/ops/resource_variable_ops.py:435: colocate_with (from tensorflow.python.framework.ops) is deprecated and will be removed in a future version.\n",
            "Instructions for updating:\n",
            "Colocations handled automatically by placer.\n",
            "Epoch 1/5\n",
            "60000/60000 [==============================] - 9s 151us/sample - loss: 0.4988 - acc: 0.8243\n",
            "Epoch 2/5\n",
            "60000/60000 [==============================] - 8s 138us/sample - loss: 0.3760 - acc: 0.8659\n",
            "Epoch 3/5\n",
            "60000/60000 [==============================] - 8s 135us/sample - loss: 0.3375 - acc: 0.8772\n",
            "Epoch 4/5\n",
            "60000/60000 [==============================] - 8s 138us/sample - loss: 0.3127 - acc: 0.8853\n",
            "Epoch 5/5\n",
            "60000/60000 [==============================] - 9s 145us/sample - loss: 0.2952 - acc: 0.8912\n",
            "10000/10000 [==============================] - 1s 80us/sample - loss: 0.3475 - acc: 0.8736\n",
            "[1.50778797e-05 6.08186346e-09 6.55398082e-07 3.99823570e-08\n",
            " 1.77626262e-07 8.80285203e-02 5.29756517e-06 1.51415512e-01\n",
            " 1.19555036e-04 7.60415137e-01] \n",
            " 9\n"
          ],
          "name": "stdout"
        }
      ]
    },
    {
      "metadata": {
        "id": "DutIxVWNJBfm",
        "colab_type": "text"
      },
      "cell_type": "markdown",
      "source": [
        "**在计算层之前添加卷积层和MaxPooling layer**"
      ]
    },
    {
      "metadata": {
        "id": "zroyDG2ZJBuG",
        "colab_type": "code",
        "outputId": "d5de7a7b-8ce3-4d6d-9d4d-3ddc77f815e5",
        "colab": {
          "base_uri": "https://localhost:8080/",
          "height": 647
        }
      },
      "cell_type": "code",
      "source": [
        "import tensorflow as tf\n",
        "from tensorflow import keras\n",
        "import matplotlib.pyplot as plt\n",
        "\n",
        "\n",
        "mnist = keras.datasets.fashion_mnist\n",
        "(train_images, train_labels), (test_images, test_labels) = mnist.load_data()\n",
        "\n",
        "train_images=train_images.reshape(60000, 28, 28, 1)\n",
        "test_images = test_images.reshape(10000, 28, 28, 1)\n",
        "train_images, test_images = train_images/255.0, test_images/255.0\n",
        "model = tf.keras.Sequential([keras.layers.Conv2D(64, (3, 3), activation='relu', input_shape=(28, 28, 1)),\n",
        "                              keras.layers.MaxPooling2D(2, 2),\n",
        "                             keras.layers.Conv2D(64, (3, 3), activation='relu'),\n",
        "                             keras.layers.MaxPooling2D(2, 2),\n",
        "                             keras.layers.Flatten(),\n",
        "                            keras.layers.Dense(units=128, activation='relu'),\n",
        "                            keras.layers.Dense(units=10, activation='softmax')])\n",
        "model.compile(optimizer='adam', loss='sparse_categorical_crossentropy', metrics=['accuracy'])\n",
        "model.summary()\n",
        "model.fit(train_images, train_labels, epochs=5)\n",
        "model.evaluate(test_images, test_labels)\n",
        "classification = model.predict(test_images)\n",
        "print(classification[0], '\\n', test_labels[0])"
      ],
      "execution_count": 0,
      "outputs": [
        {
          "output_type": "stream",
          "text": [
            "_________________________________________________________________\n",
            "Layer (type)                 Output Shape              Param #   \n",
            "=================================================================\n",
            "conv2d_6 (Conv2D)            (None, 26, 26, 64)        640       \n",
            "_________________________________________________________________\n",
            "max_pooling2d_6 (MaxPooling2 (None, 13, 13, 64)        0         \n",
            "_________________________________________________________________\n",
            "conv2d_7 (Conv2D)            (None, 11, 11, 64)        36928     \n",
            "_________________________________________________________________\n",
            "max_pooling2d_7 (MaxPooling2 (None, 5, 5, 64)          0         \n",
            "_________________________________________________________________\n",
            "flatten_4 (Flatten)          (None, 1600)              0         \n",
            "_________________________________________________________________\n",
            "dense_8 (Dense)              (None, 128)               204928    \n",
            "_________________________________________________________________\n",
            "dense_9 (Dense)              (None, 10)                1290      \n",
            "=================================================================\n",
            "Total params: 243,786\n",
            "Trainable params: 243,786\n",
            "Non-trainable params: 0\n",
            "_________________________________________________________________\n",
            "Epoch 1/5\n",
            "60000/60000 [==============================] - 21s 343us/sample - loss: 0.4344 - acc: 0.8410\n",
            "Epoch 2/5\n",
            "60000/60000 [==============================] - 18s 302us/sample - loss: 0.2895 - acc: 0.8935\n",
            "Epoch 3/5\n",
            "60000/60000 [==============================] - 18s 297us/sample - loss: 0.2462 - acc: 0.9088\n",
            "Epoch 4/5\n",
            "60000/60000 [==============================] - 18s 294us/sample - loss: 0.2127 - acc: 0.9219\n",
            "Epoch 5/5\n",
            "60000/60000 [==============================] - 18s 298us/sample - loss: 0.1878 - acc: 0.9295\n",
            "10000/10000 [==============================] - 1s 144us/sample - loss: 0.2551 - acc: 0.9076\n",
            "[4.3628035e-08 1.4799683e-07 4.6029701e-08 1.7194608e-07 8.8480384e-08\n",
            " 1.2560084e-04 6.3423961e-08 1.6434671e-04 1.9785919e-06 9.9970740e-01] \n",
            " 9\n"
          ],
          "name": "stdout"
        }
      ]
    },
    {
      "metadata": {
        "id": "XQItA7EnJB2m",
        "colab_type": "text"
      },
      "cell_type": "markdown",
      "source": [
        "**加了卷积层和maxpooling layer层准确率确实有显著提高**，因为通常它的功能可以将一些edge特征突出显示，将一个项目分为另一个项目，然后所需的信息量就更少了......因为您只需要对突出显示的特征进行训练。\n",
        "\n",
        "这里训练数据与测试数据较之前的不同，数据的形状需要reshape。 那是因为第一个卷积需要一个包含所有内容的单张量，所以我们需要一个60000$*$28$*$28$*$1的4D列表，而不是列表中的60,000个28$*$28$*$1项目，而且测试数据也是如此。 如果不这样做，训练时会出现错误，因为“卷积”无法识别形状。"
      ]
    },
    {
      "metadata": {
        "id": "ERhTmbT_JB9Q",
        "colab_type": "code",
        "colab": {}
      },
      "cell_type": "code",
      "source": [
        "train_images=train_images.reshape(60000, 28, 28, 1)\n",
        "test_images = test_images.reshape(10000, 28, 28, 1)"
      ],
      "execution_count": 0,
      "outputs": []
    },
    {
      "metadata": {
        "id": "LsNfsfKAJCFW",
        "colab_type": "text"
      },
      "cell_type": "markdown",
      "source": [
        ">Next is to define your model. Now instead of the input layer at the top, you're going to add a Convolution. The parameters are:\n",
        "\n",
        ">1. The number of convolutions you want to generate. Purely arbitrary, but good to start with something in the order of 32\n",
        ">2. The size of the Convolution, in this case a 3x3 grid\n",
        "> 3. The activation function to use -- in this case we'll use relu, which you might recall is the equivalent of returning x when x>0, else returning 0\n",
        ">4. In the first layer, the shape of the input data."
      ]
    },
    {
      "metadata": {
        "id": "BUXbtbxgBlbT",
        "colab_type": "text"
      },
      "cell_type": "markdown",
      "source": [
        "**配合卷积层一起使用的是maxpooling layer，目的是为了压缩图像，同时也可以保持由卷积层突出显示的特征的内容**，通过为MaxPooling指定一个（2, 2）的数组，效果相当于对图像的大小进行四分之一。创建了一个2x2的像素阵列，然后选择最大的像素，从而将4个像素变为1.它在整个图像中重复这个，并且这样做可以将水平与垂直像素数减半，有效地将图像减少25％。"
      ]
    },
    {
      "metadata": {
        "id": "qvTAnqnpFr9t",
        "colab_type": "text"
      },
      "cell_type": "markdown",
      "source": [
        "## Visualizing the Convolutions and Pooling"
      ]
    },
    {
      "metadata": {
        "id": "zdIsQmLIFyVM",
        "colab_type": "text"
      },
      "cell_type": "markdown",
      "source": [
        "**下面这段代码将以图形的形式为我们展示卷积**，print(test_labels[:100])打印出前100个测试集的标签，其中index 0, index 23 and index 28 的值都为9，表示属于同一类（鞋），让我们来看看在每个运行卷积的结果，可以看到它们之间出现的共同特征。"
      ]
    },
    {
      "metadata": {
        "id": "vXOsz6Sz9_1J",
        "colab_type": "code",
        "outputId": "a1efa738-13be-4230-adfa-1748672465a8",
        "colab": {
          "base_uri": "https://localhost:8080/",
          "height": 71
        }
      },
      "cell_type": "code",
      "source": [
        "print(test_labels[:100])\n"
      ],
      "execution_count": 0,
      "outputs": [
        {
          "output_type": "stream",
          "text": [
            "[9 2 1 1 6 1 4 6 5 7 4 5 7 3 4 1 2 4 8 0 2 5 7 9 1 4 6 0 9 3 8 8 3 3 8 0 7\n",
            " 5 7 9 6 1 3 7 6 7 2 1 2 2 4 4 5 8 2 2 8 4 8 0 7 7 8 5 1 1 2 3 9 8 7 0 2 6\n",
            " 2 3 1 2 8 4 1 8 5 9 5 0 3 2 0 6 5 3 6 7 1 8 0 1 4 2]\n"
          ],
          "name": "stdout"
        }
      ]
    },
    {
      "metadata": {
        "id": "CjqdJ9edTTGU",
        "colab_type": "code",
        "outputId": "4a4198b2-dcd9-41dc-fc2d-5a1d62b8ad46",
        "colab": {
          "base_uri": "https://localhost:8080/",
          "height": 73
        }
      },
      "cell_type": "code",
      "source": [
        "import matplotlib.pyplot as plt\n",
        "\n",
        "\n",
        "FIRST_IMAGE=0\n",
        "SECOND_IMAGE=23\n",
        "THIRD_IMAGE=28\n",
        "CONVOLUTION_NUMBER = 1\n",
        "\n",
        "layer_outputs = [layer.output for layer in model.layers]\n",
        "activation_model = tf.keras.Model(inputs = model.input, outputs = layer_outputs)\n",
        "print(model.layers, '\\n', model.output)\n"
      ],
      "execution_count": 0,
      "outputs": [
        {
          "output_type": "stream",
          "text": [
            "[<tensorflow.python.keras.layers.convolutional.Conv2D object at 0x7f160a21b128>, <tensorflow.python.keras.layers.pooling.MaxPooling2D object at 0x7f160a321fd0>, <tensorflow.python.keras.layers.convolutional.Conv2D object at 0x7f160a328048>, <tensorflow.python.keras.layers.pooling.MaxPooling2D object at 0x7f160a328160>, <tensorflow.python.keras.layers.core.Flatten object at 0x7f160a328240>, <tensorflow.python.keras.layers.core.Dense object at 0x7f160a3282b0>, <tensorflow.python.keras.layers.core.Dense object at 0x7f160a328400>] \n",
            " Tensor(\"dense_9/Softmax:0\", shape=(?, 10), dtype=float32)\n"
          ],
          "name": "stdout"
        }
      ]
    },
    {
      "metadata": {
        "id": "gQDdl1aKWPp_",
        "colab_type": "text"
      },
      "cell_type": "markdown",
      "source": [
        "**model.output**得到的是最后的输出张量，而我们是要展现卷积层后图形的变化，因此要**layer_outputs = [layer.output for layer in model.layers]**，这里得到的就是每一层的输出列表"
      ]
    },
    {
      "metadata": {
        "id": "I1M1Zj3QQGP4",
        "colab_type": "code",
        "outputId": "6976f8c4-5705-4f25-e25e-f3db2dd5a518",
        "colab": {
          "base_uri": "https://localhost:8080/",
          "height": 349
        }
      },
      "cell_type": "code",
      "source": [
        "import matplotlib.pyplot as plt\n",
        "\n",
        "\n",
        "figure, ax = plt.subplots(3,4)\n",
        "\n",
        "FIRST_IMAGE=0\n",
        "SECOND_IMAGE=23\n",
        "THIRD_IMAGE=28\n",
        "CONVOLUTION_NUMBER = 1\n",
        "\n",
        "layer_outputs = [layer.output for layer in model.layers]\n",
        "activation_model = tf.keras.Model(inputs = model.input, outputs = layer_outputs)\n",
        "for x in range(0,4):\n",
        "  f1 = activation_model.predict(test_images[FIRST_IMAGE].reshape(1, 28, 28, 1))[x]\n",
        "  ax[0,x].imshow(f1[0, : , :, CONVOLUTION_NUMBER], cmap='inferno')\n",
        "  ax[0,x].grid(False)\n",
        "  f2 = activation_model.predict(test_images[SECOND_IMAGE].reshape(1, 28, 28, 1))[x]\n",
        "  ax[1,x].imshow(f2[0, : , :, CONVOLUTION_NUMBER], cmap='inferno')\n",
        "  ax[1,x].grid(False)\n",
        "  f3 = activation_model.predict(test_images[THIRD_IMAGE].reshape(1, 28, 28, 1))[x]\n",
        "  ax[2,x].imshow(f3[0, : , :, CONVOLUTION_NUMBER], cmap='inferno')\n",
        "  ax[2,x].grid(False)"
      ],
      "execution_count": 0,
      "outputs": [
        {
          "output_type": "display_data",
          "data": {
            "image/png": "[encoded data removed]",
            "text/plain": [
              "<Figure size 576x396 with 12 Axes>"
            ]
          },
          "metadata": {
            "tags": []
          }
        }
      ]
    },
    {
      "metadata": {
        "id": "9JbpKBV7aBrn",
        "colab_type": "text"
      },
      "cell_type": "markdown",
      "source": [
        "## 改变产生卷积的数目"
      ]
    },
    {
      "metadata": {
        "id": "WvOq82rPaTy1",
        "colab_type": "code",
        "outputId": "033c4ef1-30de-426f-96e3-b1124fc74bb6",
        "colab": {
          "base_uri": "https://localhost:8080/",
          "height": 647
        }
      },
      "cell_type": "code",
      "source": [
        "import tensorflow as tf\n",
        "from tensorflow import keras\n",
        "import matplotlib.pyplot as plt\n",
        "\n",
        "\n",
        "mnist = keras.datasets.fashion_mnist\n",
        "(train_images, train_labels), (test_images, test_labels) = mnist.load_data()\n",
        "\n",
        "train_images=train_images.reshape(60000, 28, 28, 1)\n",
        "test_images = test_images.reshape(10000, 28, 28, 1)\n",
        "train_images, test_images = train_images/255.0, test_images/255.0\n",
        "model = tf.keras.Sequential([keras.layers.Conv2D(32, (3, 3), activation='relu', input_shape=(28, 28, 1)),\n",
        "                              keras.layers.MaxPooling2D(2, 2),\n",
        "                             keras.layers.Conv2D(32, (3, 3), activation='relu'),\n",
        "                             keras.layers.MaxPooling2D(2, 2),\n",
        "                             keras.layers.Flatten(),\n",
        "                            keras.layers.Dense(units=128, activation='relu'),\n",
        "                            keras.layers.Dense(units=10, activation='softmax')])\n",
        "model.compile(optimizer='adam', loss='sparse_categorical_crossentropy', metrics=['accuracy'])\n",
        "model.summary()\n",
        "model.fit(train_images, train_labels, epochs=5)\n",
        "model.evaluate(test_images, test_labels)\n",
        "classification = model.predict(test_images)\n",
        "print(classification[0], '\\n', test_labels[0])"
      ],
      "execution_count": 0,
      "outputs": [
        {
          "output_type": "stream",
          "text": [
            "_________________________________________________________________\n",
            "Layer (type)                 Output Shape              Param #   \n",
            "=================================================================\n",
            "conv2d_8 (Conv2D)            (None, 26, 26, 32)        320       \n",
            "_________________________________________________________________\n",
            "max_pooling2d_8 (MaxPooling2 (None, 13, 13, 32)        0         \n",
            "_________________________________________________________________\n",
            "conv2d_9 (Conv2D)            (None, 11, 11, 32)        9248      \n",
            "_________________________________________________________________\n",
            "max_pooling2d_9 (MaxPooling2 (None, 5, 5, 32)          0         \n",
            "_________________________________________________________________\n",
            "flatten_5 (Flatten)          (None, 800)               0         \n",
            "_________________________________________________________________\n",
            "dense_10 (Dense)             (None, 128)               102528    \n",
            "_________________________________________________________________\n",
            "dense_11 (Dense)             (None, 10)                1290      \n",
            "=================================================================\n",
            "Total params: 113,386\n",
            "Trainable params: 113,386\n",
            "Non-trainable params: 0\n",
            "_________________________________________________________________\n",
            "Epoch 1/5\n",
            "60000/60000 [==============================] - 16s 264us/sample - loss: 0.4645 - acc: 0.8314\n",
            "Epoch 2/5\n",
            "60000/60000 [==============================] - 16s 269us/sample - loss: 0.3176 - acc: 0.8836\n",
            "Epoch 3/5\n",
            "60000/60000 [==============================] - 16s 267us/sample - loss: 0.2715 - acc: 0.8998\n",
            "Epoch 4/5\n",
            "60000/60000 [==============================] - 16s 262us/sample - loss: 0.2410 - acc: 0.9111\n",
            "Epoch 5/5\n",
            "60000/60000 [==============================] - 16s 262us/sample - loss: 0.2174 - acc: 0.9181\n",
            "10000/10000 [==============================] - 1s 131us/sample - loss: 0.2557 - acc: 0.9063\n",
            "[1.1727572e-06 4.9704543e-08 2.8948131e-07 2.1731376e-08 1.6070712e-06\n",
            " 3.9628549e-03 9.7691697e-08 7.9013890e-04 1.1266534e-06 9.9524271e-01] \n",
            " 9\n"
          ],
          "name": "stdout"
        }
      ]
    },
    {
      "metadata": {
        "id": "C8EEEBHea0fE",
        "colab_type": "text"
      },
      "cell_type": "markdown",
      "source": [
        "## 减少卷积层和MaxPooling layer"
      ]
    },
    {
      "metadata": {
        "id": "MfzVsmZQa-Gt",
        "colab_type": "code",
        "outputId": "fe842255-6808-4adb-8274-e89b9dd22a11",
        "colab": {
          "base_uri": "https://localhost:8080/",
          "height": 755
        }
      },
      "cell_type": "code",
      "source": [
        "import tensorflow as tf\n",
        "from tensorflow import keras\n",
        "import matplotlib.pyplot as plt\n",
        "\n",
        "\n",
        "mnist = keras.datasets.fashion_mnist\n",
        "(train_images, train_labels), (test_images, test_labels) = mnist.load_data()\n",
        "\n",
        "train_images=train_images.reshape(60000, 28, 28, 1)\n",
        "test_images = test_images.reshape(10000, 28, 28, 1)\n",
        "train_images, test_images = train_images/255.0, test_images/255.0\n",
        "model = tf.keras.Sequential([keras.layers.Conv2D(32, (3, 3), activation='relu', input_shape=(28, 28, 1)),\n",
        "                              keras.layers.MaxPooling2D(2, 2),\n",
        "                             keras.layers.Flatten(),\n",
        "                            keras.layers.Dense(units=128, activation='relu'),\n",
        "                            keras.layers.Dense(units=10, activation='softmax')])\n",
        "model.compile(optimizer='adam', loss='sparse_categorical_crossentropy', metrics=['accuracy'])\n",
        "model.summary()\n",
        "model.fit(train_images, train_labels, epochs=10)\n",
        "model.evaluate(test_images, test_labels)\n",
        "classification = model.predict(test_images)\n",
        "print(classification[0], '\\n', test_labels[0])"
      ],
      "execution_count": 0,
      "outputs": [
        {
          "output_type": "stream",
          "text": [
            "_________________________________________________________________\n",
            "Layer (type)                 Output Shape              Param #   \n",
            "=================================================================\n",
            "conv2d_14 (Conv2D)           (None, 26, 26, 32)        320       \n",
            "_________________________________________________________________\n",
            "max_pooling2d_14 (MaxPooling (None, 13, 13, 32)        0         \n",
            "_________________________________________________________________\n",
            "flatten_10 (Flatten)         (None, 5408)              0         \n",
            "_________________________________________________________________\n",
            "dense_20 (Dense)             (None, 128)               692352    \n",
            "_________________________________________________________________\n",
            "dense_21 (Dense)             (None, 10)                1290      \n",
            "=================================================================\n",
            "Total params: 693,962\n",
            "Trainable params: 693,962\n",
            "Non-trainable params: 0\n",
            "_________________________________________________________________\n",
            "Epoch 1/10\n",
            "60000/60000 [==============================] - 15s 248us/sample - loss: 0.3838 - acc: 0.8632\n",
            "Epoch 2/10\n",
            "60000/60000 [==============================] - 14s 239us/sample - loss: 0.2623 - acc: 0.9057\n",
            "Epoch 3/10\n",
            "60000/60000 [==============================] - 14s 232us/sample - loss: 0.2163 - acc: 0.9206\n",
            "Epoch 4/10\n",
            "60000/60000 [==============================] - 13s 219us/sample - loss: 0.1830 - acc: 0.9329\n",
            "Epoch 5/10\n",
            "60000/60000 [==============================] - 13s 216us/sample - loss: 0.1565 - acc: 0.9419\n",
            "Epoch 6/10\n",
            "60000/60000 [==============================] - 12s 207us/sample - loss: 0.1323 - acc: 0.9508\n",
            "Epoch 7/10\n",
            "60000/60000 [==============================] - 12s 194us/sample - loss: 0.1106 - acc: 0.9588\n",
            "Epoch 8/10\n",
            "60000/60000 [==============================] - 11s 189us/sample - loss: 0.0937 - acc: 0.9658\n",
            "Epoch 9/10\n",
            "60000/60000 [==============================] - 11s 190us/sample - loss: 0.0790 - acc: 0.9717\n",
            "Epoch 10/10\n",
            "60000/60000 [==============================] - 11s 191us/sample - loss: 0.0651 - acc: 0.9762\n",
            "10000/10000 [==============================] - 1s 90us/sample - loss: 0.3502 - acc: 0.9077\n",
            "[3.4110766e-11 2.6937274e-13 3.2053973e-09 2.4932273e-15 1.3277197e-14\n",
            " 1.2320863e-09 5.2675876e-13 1.3536474e-08 1.3124843e-10 1.0000000e+00] \n",
            " 9\n"
          ],
          "name": "stdout"
        }
      ]
    }
  ]
}