{
  "nbformat": 4,
  "nbformat_minor": 0,
  "metadata": {
    "colab": {
      "name": "tensorflow_1.ipynb",
      "version": "0.3.2",
      "provenance": [],
      "collapsed_sections": [],
      "include_colab_link": true
    },
    "kernelspec": {
      "name": "python3",
      "display_name": "Python 3"
    }
  },
  "cells": [
    {
      "cell_type": "markdown",
      "metadata": {
        "id": "view-in-github",
        "colab_type": "text"
      },
      "source": [
        "<a href=\"https://colab.research.google.com/github/notmylove/blogs/blob/master/tensorflow_1.ipynb\" target=\"_parent\"><img src=\"https://colab.research.google.com/assets/colab-badge.svg\" alt=\"Open In Colab\"/></a>"
      ]
    },
    {
      "metadata": {
        "id": "9WN1X9-0wIjA",
        "colab_type": "code",
        "colab": {}
      },
      "cell_type": "code",
      "source": [
        "import tensorflow as tf\n",
        "import numpy as np\n",
        "from tensorflow import keras"
      ],
      "execution_count": 0,
      "outputs": []
    },
    {
      "metadata": {
        "id": "LRRnP61j8xmR",
        "colab_type": "text"
      },
      "cell_type": "markdown",
      "source": [
        ""
      ]
    },
    {
      "metadata": {
        "id": "EqC7r1NB8xk9",
        "colab_type": "text"
      },
      "cell_type": "markdown",
      "source": [
        "建立一个最简单的神经网络模型，通过**tf.keras.Sequential()**函数\n",
        "\n",
        "layers表示层数，neuron表示神经元，本文模型里的layer为1，neuron为1，输入数据的维数为一维\n",
        "，通过model.compile()来进行编写模型的优化方法和损失函数，本文模型optimizer选择Stochastic gradient descend（随机梯度下降法），loss选择mean_squared_error（误差平方均值）"
      ]
    },
    {
      "metadata": {
        "id": "OwA66MHwwMCN",
        "colab_type": "code",
        "colab": {}
      },
      "cell_type": "code",
      "source": [
        "model = tf.keras.Sequential([keras.layers.Dense(units=1, input_shape=[1])])\n",
        "model.compile(optimizer='sgd', loss='mean_squared_error')"
      ],
      "execution_count": 0,
      "outputs": []
    },
    {
      "metadata": {
        "id": "1yJLo9CR4u0U",
        "colab_type": "code",
        "outputId": "8079d16a-4ace-46bd-af0d-5b7974e91123",
        "colab": {
          "base_uri": "https://localhost:8080/",
          "height": 53
        }
      },
      "cell_type": "code",
      "source": [
        "xs = np.arange(-1, 5, 1).astype(float)\n",
        "ys = np.arange(-3, 9, 2).astype(float)\n",
        "print(xs, '\\n', ys)"
      ],
      "execution_count": 0,
      "outputs": [
        {
          "output_type": "stream",
          "text": [
            "[-1.  0.  1.  2.  3.  4.] \n",
            " [-3. -1.  1.  3.  5.  7.]\n"
          ],
          "name": "stdout"
        }
      ]
    },
    {
      "metadata": {
        "id": "TsUhHreN4uzT",
        "colab_type": "code",
        "outputId": "c761d7ad-88b6-4e78-a950-0460973d7460",
        "colab": {
          "base_uri": "https://localhost:8080/",
          "height": 53
        }
      },
      "cell_type": "code",
      "source": [
        "xs = np.array([-1.0,  0.0, 1.0, 2.0, 3.0, 4.0], dtype=float)\n",
        "ys = np.array([-3.0, -1.0, 1.0, 3.0, 5.0, 7.0], dtype=float)\n",
        "print(xs, '\\n', ys)"
      ],
      "execution_count": 0,
      "outputs": [
        {
          "output_type": "stream",
          "text": [
            "[-1.  0.  1.  2.  3.  4.] \n",
            " [-3. -1.  1.  3.  5.  7.]\n"
          ],
          "name": "stdout"
        }
      ]
    },
    {
      "metadata": {
        "id": "4gIp9pou55VJ",
        "colab_type": "code",
        "colab": {}
      },
      "cell_type": "code",
      "source": [
        "model.fit(xs, ys, epochs=500)\n"
      ],
      "execution_count": 0,
      "outputs": []
    },
    {
      "metadata": {
        "id": "c6KnK43rsYoU",
        "colab_type": "text"
      },
      "cell_type": "markdown",
      "source": [
        "**epochs**表示模型训练时循环的周期，因为模型在训练时，首先会猜测一个拟合函数，根据正确的结果来计算这个猜测函数的损失函数，测量这个结果的好坏，然后根据所选的优化器来进行下一步的猜测，这个时候的猜测是基于要使损失函数最小，因此经过一次次的循环，最终损失函数是趋于收敛的。"
      ]
    },
    {
      "metadata": {
        "id": "UVDnlMJP55UJ",
        "colab_type": "code",
        "outputId": "b57af70b-7e93-4170-f3ba-525cc3abf546",
        "colab": {
          "base_uri": "https://localhost:8080/",
          "height": 53
        }
      },
      "cell_type": "code",
      "source": [
        "a = model.predict([10, 11])\n",
        "print(a)"
      ],
      "execution_count": 0,
      "outputs": [
        {
          "output_type": "stream",
          "text": [
            "[[18.98093 ]\n",
            " [20.978167]]\n"
          ],
          "name": "stdout"
        }
      ]
    },
    {
      "metadata": {
        "id": "AlYEmkax7PpQ",
        "colab_type": "text"
      },
      "cell_type": "markdown",
      "source": [
        ">Remember that neural networks deal with probabilities, so given the data that we fed the NN with, it calculated that there is a very high probability that the relationship between X and Y is $Y=2X-1$, but with only 6 data points we can't know for sure. As a result, the result for 10 and 11 is very close to 19 and 21, but not necessarily 19 and 21."
      ]
    }
  ]
}
