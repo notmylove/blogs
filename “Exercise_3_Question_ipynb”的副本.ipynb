{
  "nbformat": 4,
  "nbformat_minor": 0,
  "metadata": {
    "colab": {
      "name": "“Exercise 3 - Question.ipynb”的副本",
      "version": "0.3.2",
      "provenance": [],
      "collapsed_sections": [],
      "include_colab_link": true
    },
    "kernelspec": {
      "name": "python3",
      "display_name": "Python 3"
    }
  },
  "cells": [
    {
      "cell_type": "markdown",
      "metadata": {
        "id": "view-in-github",
        "colab_type": "text"
      },
      "source": [
        "<a href=\"https://colab.research.google.com/github/notmylove/blogs/blob/master/%E2%80%9CExercise_3_Question_ipynb%E2%80%9D%E7%9A%84%E5%89%AF%E6%9C%AC.ipynb\" target=\"_parent\"><img src=\"https://colab.research.google.com/assets/colab-badge.svg\" alt=\"Open In Colab\"/></a>"
      ]
    },
    {
      "metadata": {
        "id": "iQjHqsmTAVLU",
        "colab_type": "text"
      },
      "cell_type": "markdown",
      "source": [
        "## Exercise 3\n",
        "In the videos you looked at how you would improve Fashion MNIST using Convolutions. For your exercise see if you can improve MNIST to 99.8% accuracy or more using only a single convolutional layer and a single MaxPooling 2D. You should stop training once the accuracy goes above this amount. It should happen in less than 20 epochs, so it's ok to hard code the number of epochs for training, but your training must end once it hits the above metric. If it doesn't, then you'll need to redesign your layers.\n",
        "\n",
        "I've started the code for you -- you need to finish it!\n",
        "\n",
        "When 99.8% accuracy has been hit, you should print out the string \"Reached 99.8% accuracy so cancelling training!\"\n"
      ]
    },
    {
      "metadata": {
        "id": "sfQRyaJWAIdg",
        "colab_type": "code",
        "colab": {}
      },
      "cell_type": "code",
      "source": [
        "import tensorflow as tf\n",
        "from tensorflow import keras\n",
        "import matplotlib.pyplot as plts\n",
        "\n",
        "\n",
        "class Callback(tf.keras.callbacks.Callback):\n",
        "  def on_epoch_end(self, epoch, logs={}):\n",
        "    if logs.get('acc') > 0.966:\n",
        "      print(\"\\nReached 96.6% accuracy so cancelling training!\")\n",
        "      self.model.stop_training = True\n",
        "callbacks = Callback()\n",
        "# 导入数据\n",
        "mnist = keras.datasets.mnist\n",
        "(train_images, train_labels), (test_images, test_labels) = mnist.load_data()\n",
        "# 规范化数据\n",
        "train_images, test_images = train_images/255.0, test_images/255.0\n",
        "# 改变数据形状\n",
        "train_images = train_images.reshape(60000, 28, 28, 1)\n",
        "test_images = test_images.reshape(10000, 28, 28, 1)\n",
        "\n",
        "model = tf.keras.Sequential([keras.layers.Conv2D(32, (3, 3), activation='relu', input_shape=(28, 28, 1)),\n",
        "                            keras.layers.MaxPooling2D(2, 2),\n",
        "                            keras.layers.Flatten(),\n",
        "                            keras.layers.Dense(128, activation='relu'),\n",
        "                            keras.layers.Dense(10, activation='softmax')])\n",
        "# 为模型配置学习流程\n",
        "model.compile(optimizer='adam', loss='sparse_categorical_crossentropy', metrics=['accuracy'])\n",
        "model.summary()\n",
        "model.fit(train_images, train_labels, epochs=10, callbacks=[callbacks])\n",
        "model.evaluate(test_iamges, test_labels)\n",
        "predict_result = model.predict(test_images)\n",
        "\n",
        "\n",
        "\n"
      ],
      "execution_count": 0,
      "outputs": []
    },
    {
      "metadata": {
        "id": "wjsPoxc2WLnp",
        "colab_type": "code",
        "outputId": "3e08a6b3-edb8-447e-ef61-c1a99a093d19",
        "colab": {
          "base_uri": "https://localhost:8080/",
          "height": 349
        }
      },
      "cell_type": "code",
      "source": [
        "\n",
        "figure, ax = plt.subplots(3, 2)\n",
        "layer_outputs = [layer.output for layer in model.layers]\n",
        "first_image = 0\n",
        "second_image = 23\n",
        "third_image = 28\n",
        "convolution_number = 1\n",
        "activation_model = tf.keras.Model(inputs=model.input, outputs=layer_outputs)\n",
        "for i in range(2):\n",
        "  f1 = activation_model.predict(test_images[first_image].reshape(1, 28, 28, 1))[i]\n",
        "  ax[0, i].imshow(f1[0, :, :, convolution_number], cmap='inferno')\n",
        "  f2 = activation_model.predict(test_images[second_image].reshape(1, 28, 28, 1))[i]\n",
        "  ax[1, i].imshow(f2[0, :, :, convolution_number], cmap='inferno')\n",
        "  f3 = activation_model.predict(test_images[third_image].reshape(1, 28, 28, 1))[i]\n",
        "  ax[2, i].imshow(f3[0, :, :, convolution_number], cmap='inferno')\n"
      ],
      "execution_count": 0,
      "outputs": [
        {
          "output_type": "display_data",
          "data": {
            "image/png": "[encoded data removed]",
            "text/plain": [
              "<Figure size 576x396 with 6 Axes>"
            ]
          },
          "metadata": {
            "tags": []
          }
        }
      ]
    }
  ]
}
